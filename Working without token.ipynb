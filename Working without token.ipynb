{
 "cells": [
  {
   "cell_type": "code",
   "execution_count": 1,
   "id": "28a794b0-56ac-405b-a5e4-9c367b8c7796",
   "metadata": {},
   "outputs": [
    {
     "data": {
      "application/vnd.jupyter.widget-view+json": {
       "model_id": "380f2130090d4ca7a4738983df6141a4",
       "version_major": 2,
       "version_minor": 0
      },
      "text/plain": [
       "Loading pipeline components...:   0%|          | 0/7 [00:00<?, ?it/s]"
      ]
     },
     "metadata": {},
     "output_type": "display_data"
    },
    {
     "name": "stderr",
     "output_type": "stream",
     "text": [
      "C:\\Users\\91979\\AppData\\Local\\Programs\\Python\\Python312\\Lib\\site-packages\\transformers\\tokenization_utils_base.py:1601: FutureWarning: `clean_up_tokenization_spaces` was not set. It will be set to `True` by default. This behavior will be depracted in transformers v4.45, and will be then set to `False` by default. For more details check this issue: https://github.com/huggingface/transformers/issues/31884\n",
      "  warnings.warn(\n"
     ]
    },
    {
     "data": {
      "application/vnd.jupyter.widget-view+json": {
       "model_id": "f57e0d4c8e284e7a9756ec4e70f7d2ff",
       "version_major": 2,
       "version_minor": 0
      },
      "text/plain": [
       "  0%|          | 0/50 [00:00<?, ?it/s]"
      ]
     },
     "metadata": {},
     "output_type": "display_data"
    }
   ],
   "source": [
    "import tkinter as tk\n",
    "from tkinter import messagebox\n",
    "import torch\n",
    "from diffusers import StableDiffusionPipeline\n",
    "from PIL import Image, ImageTk\n",
    "import threading\n",
    "\n",
    "# Initialize the main Tkinter application window\n",
    "app = tk.Tk()\n",
    "\n",
    "# Set the size of the window\n",
    "app.geometry(\"532x632\") \n",
    "\n",
    "# Set the title of the window\n",
    "app.title(\"Text-to-Image Generator\")  \n",
    "\n",
    "# Create an entry widget for the prompt text input\n",
    "prompt = tk.Entry(app, font=(\"Arial\", 20))\n",
    "prompt.place(x=10, y=10, width=512, height=40)  \n",
    "\n",
    "# Create a label widget for displaying the generated image\n",
    "lmain = tk.Label(app)\n",
    "lmain.place(x=10, y=110, width=512, height=512)\n",
    "\n",
    "# Define the model ID for Stable Diffusion\n",
    "modelid = \"CompVis/stable-diffusion-v1-4\"  \n",
    "\n",
    "# Define the device to run the model on (GPU if available, else CPU)\n",
    "device = \"cuda\" if torch.cuda.is_available() else \"cpu\" \n",
    "\n",
    "# Load the Stable Diffusion model pipeline\n",
    "pipe = StableDiffusionPipeline.from_pretrained(modelid, torch_dtype=torch.float32)\n",
    "pipe.to(device)  \n",
    "\n",
    "# Define the function to generate the image from the prompt\n",
    "def generate():\n",
    "    def task():\n",
    "        try:\n",
    "            with torch.no_grad():  \n",
    "                # Generate the image\n",
    "                image = pipe(prompt.get(), guidance_scale=8.5).images[0]  \n",
    "\n",
    "            # Convert the image to a PhotoImage for Tkinter\n",
    "            img = ImageTk.PhotoImage(image)  \n",
    "\n",
    "            # Keep a reference to the image to prevent garbage collection\n",
    "            lmain.image = img \n",
    "\n",
    "            # Update the label widget with the new image\n",
    "            lmain.configure(image=img)  \n",
    "        except Exception as e:\n",
    "            messagebox.showerror(\"Error\", str(e))\n",
    "\n",
    "    # Run the task in a separate thread to avoid blocking the UI\n",
    "    threading.Thread(target=task).start()\n",
    "\n",
    "# Create a button widget to trigger the image generation\n",
    "trigger = tk.Button(app, text=\"Generate\", font=(\"Arial\", 20), command=generate)\n",
    "trigger.place(x=206, y=60, width=120, height=40)  \n",
    "\n",
    "# Start the Tkinter main loop\n",
    "app.mainloop()\n"
   ]
  }
 ],
 "metadata": {
  "kernelspec": {
   "display_name": "Python 3 (ipykernel)",
   "language": "python",
   "name": "python3"
  },
  "language_info": {
   "codemirror_mode": {
    "name": "ipython",
    "version": 3
   },
   "file_extension": ".py",
   "mimetype": "text/x-python",
   "name": "python",
   "nbconvert_exporter": "python",
   "pygments_lexer": "ipython3",
   "version": "3.12.0"
  }
 },
 "nbformat": 4,
 "nbformat_minor": 5
}
